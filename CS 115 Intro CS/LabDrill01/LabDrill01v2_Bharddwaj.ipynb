{
 "cells": [
  {
   "source": [
    "# This is how you write a comment in Python. Comments are used to document code.\n",
    "\n",
    "''' This is how you make a docstring.\n",
    "Docstrings span for multiple lines.'''\n",
    "\n",
    "# Structure for writing a basic function in Python\n",
    "def add_one(x):\n",
    "    '''\n",
    "        param: takes in a number x\n",
    "        This function adds 1 to the number and returns that value\n",
    "    '''\n",
    "    return x + 1\n",
    "\n",
    "print(add_one(2))\n",
    "# What happens if I just print the name of the function?"
   ],
   "cell_type": "code",
   "outputs": [
    {
     "output_type": "stream",
     "name": "stdout",
     "text": "3\n"
    }
   ],
   "metadata": {},
   "execution_count": 1
  },
  {
   "cell_type": "code",
   "execution_count": null,
   "metadata": {},
   "outputs": [],
   "source": [
    "#Data types\n",
    "\n",
    "#String: Any word you want to represent. A string is usually stored with double quotation marks.\n",
    "string = \"Hello\"\n",
    "\n",
    "#Integer: A number with no decimal places\n",
    "x = 1\n",
    "\n",
    "#Boolean: Data type that represents something that is true or false.\n",
    "isEven = True\n",
    "\n",
    "#Float: A number with decimal places.\n",
    "f = 1.24952\n",
    "\n",
    "#List: Holds a variety of data types\n",
    "lst = [1, \"Hi\", 2, 0.2]"
   ]
  },
  {
   "cell_type": "code",
   "execution_count": null,
   "metadata": {},
   "outputs": [],
   "source": [
    "#Calculations in Python\n",
    "x = 8\n",
    "y = 6\n",
    "\n",
    "# Addition: Adds x and y\n",
    "print(x + \"+\" y + \" = \" + (x + y))\n",
    "\n",
    "#Subtraction: Subtracts y from x\n",
    "print(x + \"-\" y + \" = \" + (x - y))\n",
    "\n",
    "#Multiplication: Multiplies x by y\n",
    "print(x + \"*\" y + \" = \" (x * y))\n",
    "\n",
    "#Division: Quotient of x and y\n",
    "print(x + \"/\" y + \" = \" + (x / y))\n",
    "\n",
    "#Floor division: Quotient of floor division from x and y (rounds the quotient down)\n",
    "print(x + \"//\" y + \" = \" + (x // y))\n",
    "\n",
    "#Exponent: Takes x to the y power\n",
    "print(x + \"**\" y + \" = \" + (x ** y))\n",
    "\n",
    "#Modulus division: Takes the remainder of x / y\n",
    "print(x + \"%\" y + \" = \" + (x % y))"
   ]
  },
  {
   "cell_type": "code",
   "execution_count": null,
   "metadata": {},
   "outputs": [],
   "source": [
    "# For Loops\n",
    "''' for (your variable name) in (a sequence): '''\n",
    "\n",
    "# A loop that prints out numbers 0 through 9\n",
    "    # Range makes a list of integers from 0 to n - 1\n",
    "for i in range(10):\n",
    "    print(i)\n",
    "\n",
    "# A loop that prints out every value in a list\n",
    "for i in [1, 2, 4]:\n",
    "    print(i)"
   ]
  },
  {
   "cell_type": "code",
   "execution_count": null,
   "metadata": {},
   "outputs": [],
   "source": [
    "# Example of using the input function\n",
    "\n",
    "#Defaults to a string\n",
    "name = input(\"Enter your name: \")\n",
    "\n",
    "# If you want to input an integer/float, use eval\n",
    "celsius = eval (input (\"What is the Celsius temperature? \") )\n",
    "fahrenheit = 9/5 * celsius + 32\n",
    "print (\"The temperature is\", fahrenheit, \"degrees Fahrenheit.\") "
   ]
  },
  {
   "cell_type": "code",
   "execution_count": null,
   "metadata": {},
   "outputs": [],
   "source": [
    "# Making a variable\n",
    "x = 1\n",
    "print(x)\n",
    "\n",
    "# Can also reassign a variable after declaration\n",
    "x = 5\n",
    "print(x)\n",
    "\n",
    "# You can also assign multiple variables at once\n",
    "z = 2\n",
    "sum, diff = x + z, x - z\n",
    "\n",
    "# What happens if I print an undeclared variable?\n",
    "print(y)\n"
   ]
  }
 ],
 "metadata": {
  "file_extension": ".py",
  "kernelspec": {
   "display_name": "Python 3",
   "language": "python",
   "name": "python3"
  },
  "language_info": {
   "codemirror_mode": {
    "name": "ipython",
    "version": 3
   },
   "file_extension": ".py",
   "mimetype": "text/x-python",
   "name": "python",
   "nbconvert_exporter": "python",
   "pygments_lexer": "ipython3",
   "version": "3.7.4-final"
  },
  "mimetype": "text/x-python",
  "name": "python",
  "npconvert_exporter": "python",
  "pygments_lexer": "ipython3",
  "version": 3
 },
 "nbformat": 4,
 "nbformat_minor": 2
}