{
 "cells": [
  {
   "cell_type": "code",
   "execution_count": 1,
   "metadata": {},
   "outputs": [],
   "source": [
    "import numpy as np\n",
    "import random\n",
    "from scipy.stats import multivariate_normal\n",
    "from sklearn.datasets import make_spd_matrix\n",
    "from sklearn.mixture import GaussianMixture"
   ]
  },
  {
   "cell_type": "code",
   "execution_count": 2,
   "metadata": {},
   "outputs": [
    {
     "name": "stdout",
     "output_type": "stream",
     "text": [
      "Load data from points.dat.txt...\n"
     ]
    },
    {
     "data": {
      "text/plain": [
       "array([[-6.3670924 , -0.35240556],\n",
       "       [-0.08979119,  1.5166165 ],\n",
       "       [ 0.22860334, -3.4007959 ],\n",
       "       ...,\n",
       "       [-2.5545522 , -4.7181746 ],\n",
       "       [-0.20151563,  2.9328022 ],\n",
       "       [-0.36624411, -3.0872141 ]])"
      ]
     },
     "execution_count": 2,
     "metadata": {},
     "output_type": "execute_result"
    }
   ],
   "source": [
    "file1 = open(\"points.dat.txt\")\n",
    "lines = file1.readlines()\n",
    "x = np.array([float(line.split()[0]) for line in lines])\n",
    "y = np.array([float(line.split()[1]) for line in lines])\n",
    "X = np.vstack((x,y)).T\n",
    "print(\"Load data from points.dat.txt...\")\n",
    "X"
   ]
  },
  {
   "cell_type": "code",
   "execution_count": 3,
   "metadata": {},
   "outputs": [],
   "source": [
    "class GMM:\n",
    "    def __init__(self, data, k, nIter) -> None:\n",
    "        # provided data\n",
    "        self.X = data               # the points as n x f numpy matrix\n",
    "        self.n = data.shape[0]      # num of training points\n",
    "        self.f = data.shape[1]      # num of features\n",
    "        self.k = k                  # num of gaussians \n",
    "        self.nIter = nIter          # iterations to run\n",
    "\n",
    "        # initialize pi randomly - generate k random numbers then normalize for sum = 1\n",
    "        self.pi = [random.random() for _ in range(self.k)]\n",
    "        self.pi = np.array([r / sum(self.pi) for r in self.pi])\n",
    "        # self.pi = self.pi\n",
    "\n",
    "        # initialize sig randomly - cov = t(A) * A\n",
    "        self.sig = make_spd_matrix(self.f)\n",
    "        self.sig = [self.sig.tolist()]\n",
    "            # had to convert to list and back because numpy is trash\n",
    "        for i in range(1, self.k):\n",
    "            temp = make_spd_matrix(self.f)\n",
    "            temp = temp.tolist()\n",
    "            self.sig.append(temp)\n",
    "\n",
    "            # transpose at end to meet homework guidelines \n",
    "        self.sig = np.array(self.sig)\n",
    "        self.sig = self.sig.T\n",
    "\n",
    "        # initialize mu randomly\n",
    "        self.mu = np.random.rand(self.k, self.f)\n",
    "\n",
    "    # returns n x k matrix with gaussian membership weights for each point\n",
    "    def Expectation(self):\n",
    "        #       gaussian 1, gaussian 2, ....\n",
    "        # pnt1:  w11          w12       ....\n",
    "        # pnt2:  w21          w22       ....\n",
    "        # pnt3:  w31          w32       ....\n",
    "        #  .      .            .        ....\n",
    "        \n",
    "        expectation = []\n",
    "        # loop through gaussians\n",
    "        for i in range(self.k):\n",
    "            dist_i = multivariate_normal(cov=self.sig[:,:,i], mean=self.mu[i])\n",
    "            gauss_i = dist_i.pdf(self.X)    # N() for each mu_i and cov_i\n",
    "            expectation.append(self.pi[i] * gauss_i)       # pi_i * N()\n",
    "        \n",
    "        expectation = np.array(expectation).T\n",
    "\n",
    "        sums = np.array([sum(expectation[i]) for i in range(expectation.shape[0])])\n",
    "        inv_sums = 1/sums\n",
    "\n",
    "        return (expectation.T * inv_sums).T\n",
    "    \n",
    "    def MaximizeMean(self, r):\n",
    "        N_k = sum(r)\n",
    "        # multiple X by Rnk for each k\n",
    "        # divide by sum(Rnk) for all n in each k\n",
    "        return np.array([(sum((self.X.T * r[:,i]).T)/N_k[i]).tolist() for i in range(self.k)])\n",
    "    \n",
    "    def MaximizeCovariance(self, r):\n",
    "        N_k = sum(r)\n",
    "        # loop through all n training examples\n",
    "        temp_sig = []\n",
    "        for i in range(self.k):\n",
    "            temp_sig_i = 0\n",
    "            for j in range(self.n):\n",
    "                temp = self.X[j] - self.mu[i]\n",
    "                temp_sig_i += np.dot(temp.reshape(2,1), temp.reshape(1,2)) * r[j,i]\n",
    "            temp_sig_i = temp_sig_i/N_k[i]\n",
    "            temp_sig.append(temp_sig_i.tolist())\n",
    "        return np.array(temp_sig).T\n",
    "    \n",
    "    def MaximizeMixtures(self,r):\n",
    "        return sum(r)/self.X.shape[0]\n",
    "\n",
    "    def EM(self):\n",
    "        print(\"Randomly initialized...\")\n",
    "        print(\"Mu: \\n\", self.mu)\n",
    "        print(\"Sig: \\n\", self.sig)\n",
    "        print('Pi: \\n', self.pi)\n",
    "\n",
    "        for i in range(self.nIter):\n",
    "            r = self.Expectation()\n",
    "            mu_temp = self.MaximizeMean(r)\n",
    "            sig_temp = self.MaximizeCovariance(r)\n",
    "            pi_temp = self.MaximizeMixtures(r)\n",
    "            self.mu = mu_temp\n",
    "            self.sig = sig_temp\n",
    "            self.pi = pi_temp\n",
    "        \n",
    "        print(\"\\nAfter all iterations...\")\n",
    "        print(\"Mu: \\n\", self.mu)\n",
    "        print(\"Sig: \\n\", self.sig)\n",
    "        print('Pi: \\n', self.pi)"
   ]
  },
  {
   "cell_type": "code",
   "execution_count": 4,
   "metadata": {},
   "outputs": [
    {
     "name": "stdout",
     "output_type": "stream",
     "text": [
      "Randomly initialized...\n",
      "Mu: \n",
      " [[0.67863661 0.39765557]\n",
      " [0.75315171 0.45592   ]\n",
      " [0.86917405 0.8220177 ]]\n",
      "Sig: \n",
      " [[[ 1.88588102  2.58222575  2.08695213]\n",
      "  [ 0.76753777  0.30631524 -0.66683713]]\n",
      "\n",
      " [[ 0.76753777  0.30631524 -0.66683713]\n",
      "  [ 0.58082929  0.45185375  0.56892128]]]\n",
      "Pi: \n",
      " [0.27401242 0.44711084 0.27887673]\n",
      "\n",
      "After all iterations...\n",
      "Mu: \n",
      " [[-0.26471486  1.71363052]\n",
      " [-2.15200362 -2.26427454]\n",
      " [ 4.20230106 -1.66352455]]\n",
      "Sig: \n",
      " [[[ 1.45993918  8.00462651  0.78897359]\n",
      "  [ 0.4572851  -2.91724599  0.02863309]]\n",
      "\n",
      " [[ 0.4572851  -2.91724599  0.02863309]\n",
      "  [ 1.16340632  3.72368701  2.3848341 ]]]\n",
      "Pi: \n",
      " [0.40958024 0.50251419 0.08790557]\n"
     ]
    }
   ],
   "source": [
    "gmm = GMM(X, 3, 500)\n",
    "gmm.EM()"
   ]
  },
  {
   "cell_type": "code",
   "execution_count": 5,
   "metadata": {},
   "outputs": [
    {
     "name": "stdout",
     "output_type": "stream",
     "text": [
      "Means: \n",
      " [[-0.03695683  1.92055016]\n",
      " [-4.1037477  -0.061991  ]\n",
      " [ 0.20533581 -2.62807614]]\n",
      "Cov: \n",
      " [[[0.99702042 0.22925469]\n",
      "  [0.22925469 1.09244853]]\n",
      "\n",
      " [[5.03384384 2.1148836 ]\n",
      "  [2.1148836  1.06949241]]\n",
      "\n",
      " [[7.58526272 0.09953442]\n",
      "  [0.09953442 3.62490655]]]\n",
      "Weight: \n",
      " [0.32582258 0.21972655 0.45445088]\n"
     ]
    }
   ],
   "source": [
    "gm = GaussianMixture(n_components=3, random_state=0).fit(X)\n",
    "print(\"Means: \\n\", gm.means_)\n",
    "print(\"Cov: \\n\", gm.covariances_)\n",
    "print(\"Weight: \\n\", gm.weights_)"
   ]
  }
 ],
 "metadata": {
  "interpreter": {
   "hash": "a7ed2c50e75bf8e7aa9dd7cde7aa2072bad88e0e51e78e3a0bd2a60904861eb6"
  },
  "kernelspec": {
   "display_name": "Python 3.8.6 64-bit",
   "language": "python",
   "name": "python3"
  },
  "language_info": {
   "codemirror_mode": {
    "name": "ipython",
    "version": 3
   },
   "file_extension": ".py",
   "mimetype": "text/x-python",
   "name": "python",
   "nbconvert_exporter": "python",
   "pygments_lexer": "ipython3",
   "version": "3.8.6"
  },
  "orig_nbformat": 4
 },
 "nbformat": 4,
 "nbformat_minor": 2
}
